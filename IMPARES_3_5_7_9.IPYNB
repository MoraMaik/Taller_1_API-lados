{
 "cells": [
  {
   "cell_type": "markdown",
   "metadata": {},
   "source": [
    "# Punto 3"
   ]
  },
  {
   "cell_type": "code",
   "execution_count": 10,
   "metadata": {},
   "outputs": [
    {
     "name": "stdout",
     "output_type": "stream",
     "text": [
      "El número 10 es par.\n"
     ]
    }
   ],
   "source": [
    "# Asignar un número entero directamente en el código\n",
    "numero = 10  # Cambiar este valor para probar con diferentes números\n",
    "\n",
    "# Determinar si el número es par o impar\n",
    "if numero % 2 == 0:\n",
    "    print(f\"El número {numero} es par.\")\n",
    "else:\n",
    "    print(f\"El número {numero} es impar.\")\n"
   ]
  },
  {
   "cell_type": "markdown",
   "metadata": {},
   "source": [
    "# Punto 5"
   ]
  },
  {
   "cell_type": "code",
   "execution_count": 11,
   "metadata": {},
   "outputs": [
    {
     "name": "stdout",
     "output_type": "stream",
     "text": [
      "La suma de los dos primeros números es mayor que el tercer número.\n"
     ]
    }
   ],
   "source": [
    "# Definir los tres números directamente en el código\n",
    "numero1 = 3.5  # Aquí puedes cambiar el valor para probar con diferentes números\n",
    "numero2 = 4.5  # Aquí puedes cambiar el valor para probar con diferentes números\n",
    "numero3 = 4.0  # Aquí puedes cambiar el valor para probar con diferentes números\n",
    "\n",
    "# Calcula la suma de los dos primeros números\n",
    "suma = numero1 + numero2\n",
    "\n",
    "# Compara la suma con el tercer número e imprime el resultado\n",
    "if suma > numero3:\n",
    "    print(\"La suma de los dos primeros números es mayor que el tercer número.\")\n",
    "elif suma < numero3:\n",
    "    print(\"La suma de los dos primeros números es menor que el tercer número.\")\n",
    "else:\n",
    "    print(\"La suma de los dos primeros números es igual al tercer número.\")\n",
    "\n"
   ]
  },
  {
   "cell_type": "markdown",
   "metadata": {
    "notebookRunGroups": {
     "groupValue": ""
    }
   },
   "source": [
    "# Punto 7"
   ]
  },
  {
   "cell_type": "code",
   "execution_count": 14,
   "metadata": {},
   "outputs": [
    {
     "name": "stdout",
     "output_type": "stream",
     "text": [
      "Promedio: 3.4\n",
      "Mediana: 3.4\n",
      "Promedio multiplicativo: 2.98371754444427\n",
      "Números en orden ascendente: [1.2, 2.3, 3.4, 4.5, 5.6]\n",
      "Números en orden descendente: [5.6, 4.5, 3.4, 2.3, 1.2]\n",
      "Potencia del mayor número elevado al menor: 7.903612372398377\n",
      "Raíz cúbica del menor número: 1.0626585691826111\n"
     ]
    }
   ],
   "source": [
    "# Celda 1: Solicitar al usuario que ingrese 5 números reales\n",
    "numeros = [2.3, 4.5, 1.2, 3.4, 5.6]  # Ejemplo de lista de números\n",
    "\n",
    "# Celda 2: Calcular el promedio\n",
    "suma = 0\n",
    "for numero in numeros:\n",
    "    suma += numero\n",
    "promedio = suma / len(numeros)\n",
    "print(f\"Promedio: {promedio}\")\n",
    "\n",
    "# Celda 3: Calcular la mediana\n",
    "numeros_ordenados = sorted(numeros)\n",
    "mitad = len(numeros_ordenados) // 2\n",
    "if len(numeros_ordenados) % 2 == 0:\n",
    "    mediana = (numeros_ordenados[mitad - 1] + numeros_ordenados[mitad]) / 2\n",
    "else:\n",
    "    mediana = numeros_ordenados[mitad]\n",
    "print(f\"Mediana: {mediana}\")\n",
    "\n",
    "# Celda 4: Calcular el promedio multiplicativo\n",
    "producto = 1\n",
    "for numero in numeros:\n",
    "    producto *= numero\n",
    "promedio_multiplicativo = producto ** (1/len(numeros))\n",
    "print(f\"Promedio multiplicativo: {promedio_multiplicativo}\")\n",
    "\n",
    "# Celda 5: Ordenar los números de forma ascendente\n",
    "numeros_ascendente = sorted(numeros)\n",
    "print(f\"Números en orden ascendente: {numeros_ascendente}\")\n",
    "\n",
    "# Celda 6: Ordenar los números de forma descendente\n",
    "numeros_descendente = sorted(numeros, reverse=True)\n",
    "print(f\"Números en orden descendente: {numeros_descendente}\")\n",
    "\n",
    "# Celda 7: Calcular la potencia del mayor número elevado al menor número\n",
    "mayor = max(numeros)\n",
    "menor = min(numeros)\n",
    "potencia_mayor_menor = mayor ** menor\n",
    "print(f\"Potencia del mayor número elevado al menor: {potencia_mayor_menor}\")\n",
    "\n",
    "# Celda 8: Calcular la raíz cúbica del menor número\n",
    "# Como Python no tiene una función integrada específica para la raíz cúbica,\n",
    "# se utiliza la operación de exponente con 1/3 para calcularla.\n",
    "raiz_cubica_menor = menor ** (1/3)\n",
    "print(f\"Raíz cúbica del menor número: {raiz_cubica_menor}\")\n"
   ]
  },
  {
   "cell_type": "markdown",
   "metadata": {},
   "source": [
    "# Punto 9"
   ]
  },
  {
   "cell_type": "code",
   "execution_count": 13,
   "metadata": {},
   "outputs": [
    {
     "name": "stdout",
     "output_type": "stream",
     "text": [
      "La capital de colombia es: Bogotá\n"
     ]
    }
   ],
   "source": [
    "# Paso 1: Definir un diccionario con los países de América y sus capitales\n",
    "capitales = {\n",
    "    \"argentina\": \"Buenos Aires\",\n",
    "    \"bolivia\": \"Sucre\",\n",
    "    \"brasil\": \"Brasília\",\n",
    "    \"canada\": \"Ottawa\",\n",
    "    \"chile\": \"Santiago\",\n",
    "    \"colombia\": \"Bogotá\",\n",
    "    \"costa rica\": \"San José\",\n",
    "    \"cuba\": \"La Habana\",\n",
    "    \"ecuador\": \"Quito\",\n",
    "    \"el salvador\": \"San Salvador\",\n",
    "    \"estados unidos\": \"Washington D.C.\",\n",
    "    \"guatemala\": \"Ciudad de Guatemala\",\n",
    "    \"haiti\": \"Puerto Príncipe\",\n",
    "    \"honduras\": \"Tegucigalpa\",\n",
    "    \"mexico\": \"Ciudad de México\",\n",
    "    \"nicaragua\": \"Managua\",\n",
    "    \"panama\": \"Ciudad de Panamá\",\n",
    "    \"paraguay\": \"Asunción\",\n",
    "    \"peru\": \"Lima\",\n",
    "    \"republica dominicana\": \"Santo Domingo\",\n",
    "    \"uruguay\": \"Montevideo\",\n",
    "    \"venezuela\": \"Caracas\"\n",
    "}\n",
    "\n",
    "# Paso 2: Solicitar al usuario que ingrese el nombre de un país de América\n",
    "# Para este ejemplo, asignaremos el nombre del país directamente.\n",
    "pais = \"colombia\"  # Simula la entrada del usuario\n",
    "\n",
    "# Paso 3: Verificar si el país está en el diccionario y mostrar la capital\n",
    "if pais in capitales:\n",
    "    print(f\"La capital de {pais} es: {capitales[pais]}\")\n",
    "else:\n",
    "    print(\"País no identificado\")\n",
    "\n"
   ]
  }
 ],
 "metadata": {
  "kernelspec": {
   "display_name": "Python 3",
   "language": "python",
   "name": "python3"
  },
  "language_info": {
   "codemirror_mode": {
    "name": "ipython",
    "version": 3
   },
   "file_extension": ".py",
   "mimetype": "text/x-python",
   "name": "python",
   "nbconvert_exporter": "python",
   "pygments_lexer": "ipython3",
   "version": "3.12.2"
  }
 },
 "nbformat": 4,
 "nbformat_minor": 2
}
